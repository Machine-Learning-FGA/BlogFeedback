{
 "cells": [
  {
   "cell_type": "code",
   "execution_count": 1,
   "metadata": {},
   "outputs": [],
   "source": [
    "import pandas as pd\n",
    "import numpy as np\n",
    "f1 = \"../data/blogData_train.csv\"\n",
    "f2 = \"../data/modified/blogData_test.csv\"\n",
    "train = pd.read_csv(f1, names=[\"V\"+str(x) for x in range(1, 282)])\n",
    "test = pd.read_csv(f2, names=[\"V\"+str(x) for x in range(1, 282)])"
   ]
  },
  {
   "cell_type": "code",
   "execution_count": 2,
   "metadata": {},
   "outputs": [],
   "source": [
    "combined = train.append(test,ignore_index=True)"
   ]
  },
  {
   "cell_type": "markdown",
   "metadata": {},
   "source": [
    "# Achar pares de palavras que aparecem exatamente nas mesmas postagens do blog"
   ]
  },
  {
   "cell_type": "code",
   "execution_count": 3,
   "metadata": {},
   "outputs": [],
   "source": [
    "same_word_pair = []\n",
    "# find pair of words that appear in exactly the same blog posts\n",
    "for i in range(63, 262):\n",
    "    word_i = combined[\"V\"+str(i)]\n",
    "    count_i = sum(word_i)\n",
    "    for j in range(i+1, 263):\n",
    "        word_j = combined[\"V\"+str(j)]\n",
    "        count_j = sum(word_j)\n",
    "        count_i_j = ((word_i > 0.5) & (word_j > 0.5)).sum()\n",
    "        if count_i_j == count_i and count_i_j == count_j:\n",
    "            same_word_pair.append((i,j))"
   ]
  },
  {
   "cell_type": "code",
   "execution_count": 4,
   "metadata": {},
   "outputs": [],
   "source": [
    "duplicate_word = []\n",
    "visited = set()\n",
    "i = 0\n",
    "while i < len(same_word_pair):\n",
    "    fst_word = same_word_pair[i][0]\n",
    "    if fst_word not in visited:\n",
    "        foo = set()\n",
    "        while i < len(same_word_pair) and same_word_pair[i][0] == fst_word:\n",
    "            foo = foo | set(same_word_pair[i])\n",
    "            i += 1\n",
    "        duplicate_word.append(foo)\n",
    "        visited = visited | foo\n",
    "    else:\n",
    "        while i < len(same_word_pair) and same_word_pair[i][0] == fst_word:\n",
    "            i += 1"
   ]
  },
  {
   "cell_type": "code",
   "execution_count": 7,
   "metadata": {},
   "outputs": [
    {
     "data": {
      "text/plain": [
       "65"
      ]
     },
     "execution_count": 7,
     "metadata": {},
     "output_type": "execute_result"
    }
   ],
   "source": [
    "remove_col  = list(duplicate_word[0])\n",
    "remove_col = sorted(remove_col)\n",
    "remove_col.pop(0)"
   ]
  },
  {
   "cell_type": "code",
   "execution_count": 9,
   "metadata": {},
   "outputs": [],
   "source": [
    "cols = set(range(63, 263)) - set(remove_col)\n",
    "cols = [\"V\"+str(x) for x in cols]"
   ]
  },
  {
   "cell_type": "code",
   "execution_count": 10,
   "metadata": {},
   "outputs": [],
   "source": [
    "word_not_in_both = []\n",
    "for col in cols:\n",
    "    n_train = train[col].sum()\n",
    "    n_test = test[col].sum()\n",
    "    if n_train < 0.1 or n_test < 0.1:\n",
    "        word_not_in_both.append(col)"
   ]
  },
  {
   "cell_type": "code",
   "execution_count": 11,
   "metadata": {},
   "outputs": [],
   "source": [
    "remove_col2 = [int(x[1:]) for x in word_not_in_both]\n",
    "remove_col_all = remove_col + remove_col2\n",
    "remove_col_all.sort()"
   ]
  },
  {
   "cell_type": "code",
   "execution_count": 19,
   "metadata": {},
   "outputs": [
    {
     "name": "stdout",
     "output_type": "stream",
     "text": [
      "[65, 73, 74, 76, 80, 81, 84, 85, 87, 90, 91, 92, 94, 95, 97, 98, 109, 111, 113, 123, 124, 126, 130, 132, 133, 148, 149, 155, 156, 161, 166, 167, 169, 172, 173, 178, 179, 190, 198, 199, 200, 204, 209, 212, 217, 223, 224, 236, 243, 244, 250, 256, 262]\n"
     ]
    }
   ],
   "source": [
    "print(remove_col_all)"
   ]
  }
 ],
 "metadata": {
  "kernelspec": {
   "display_name": "Python 3",
   "language": "python",
   "name": "python3"
  },
  "language_info": {
   "codemirror_mode": {
    "name": "ipython",
    "version": 3
   },
   "file_extension": ".py",
   "mimetype": "text/x-python",
   "name": "python",
   "nbconvert_exporter": "python",
   "pygments_lexer": "ipython3",
   "version": "3.6.4"
  }
 },
 "nbformat": 4,
 "nbformat_minor": 2
}
