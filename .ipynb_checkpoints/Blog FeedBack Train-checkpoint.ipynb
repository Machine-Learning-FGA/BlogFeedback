{
 "cells": [
  {
   "cell_type": "code",
   "execution_count": 55,
   "metadata": {
    "collapsed": true
   },
   "outputs": [],
   "source": [
    "import pandas as pd\n",
    "import matplotlib.pyplot as plt\n",
    "import matplotlib as mpl\n",
    "import numpy as np\n",
    "from sklearn.metrics import r2_score, mean_squared_error\n",
    "from sklearn.model_selection import cross_val_score"
   ]
  },
  {
   "cell_type": "code",
   "execution_count": 26,
   "metadata": {
    "collapsed": true
   },
   "outputs": [],
   "source": [
    "dataset_train = pd.read_csv('data/blogData_train.csv', header=None)\n",
    "dataset_test = pd.read_csv('data/blogData_test-2012.03.31.01_00.csv', header=None)"
   ]
  },
  {
   "cell_type": "code",
   "execution_count": 54,
   "metadata": {},
   "outputs": [
    {
     "data": {
      "image/png": "[encoded data removed]",
      "text/plain": [
       "<matplotlib.figure.Figure at 0x7fec3381f6d8>"
      ]
     },
     "metadata": {},
     "output_type": "display_data"
    }
   ],
   "source": [
    "dados = dataset_train.iloc[:500, :280]\n",
    "\n",
    "from sklearn.manifold import TSNE\n",
    "mpl.rcParams['figure.figsize'] = (12, 12)\n",
    "tsne = TSNE(n_components=2)\n",
    "graf = tsne.fit_transform(dados)\n",
    "\n",
    "for xis in range(len(graf)):\n",
    "    plt.scatter(graf[xis][0], graf[xis][1], c='blue')\n",
    "plt.show()\n"
   ]
  },
  {
   "cell_type": "code",
   "execution_count": 13,
   "metadata": {},
   "outputs": [
    {
     "name": "stdout",
     "output_type": "stream",
     "text": [
      "<class 'pandas.core.frame.DataFrame'>\n",
      "RangeIndex: 52397 entries, 0 to 52396\n",
      "Columns: 281 entries, 0 to 280\n",
      "dtypes: float64(281)\n",
      "memory usage: 112.3 MB\n",
      "None\n"
     ]
    }
   ],
   "source": [
    "print(dataset_train.info())"
   ]
  },
  {
   "cell_type": "code",
   "execution_count": 7,
   "metadata": {},
   "outputs": [
    {
     "name": "stdout",
     "output_type": "stream",
     "text": [
      "0      0.485464\n",
      "1      0.424616\n",
      "2      0.053221\n",
      "3      0.356604\n",
      "4      0.491707\n",
      "5      0.497631\n",
      "6      0.433578\n",
      "7      0.034916\n",
      "8      0.322106\n",
      "9      0.506540\n",
      "10     0.490111\n",
      "11     0.439152\n",
      "12          NaN\n",
      "13     0.322775\n",
      "14     0.489674\n",
      "15     0.471999\n",
      "16     0.384654\n",
      "17     0.053221\n",
      "18     0.299688\n",
      "19     0.486316\n",
      "20     0.503375\n",
      "21     0.440003\n",
      "22    -0.280792\n",
      "23     0.320133\n",
      "24    -0.004137\n",
      "25     0.328525\n",
      "26     0.266815\n",
      "27    -0.001228\n",
      "28     0.247457\n",
      "29     0.338961\n",
      "         ...   \n",
      "251    0.017291\n",
      "252   -0.002369\n",
      "253    0.013099\n",
      "254    0.008334\n",
      "255   -0.001284\n",
      "256    0.013151\n",
      "257    0.001495\n",
      "258    0.003610\n",
      "259    0.005246\n",
      "260    0.019466\n",
      "261   -0.002411\n",
      "262   -0.004619\n",
      "263    0.017965\n",
      "264    0.011630\n",
      "265    0.001922\n",
      "266   -0.009389\n",
      "267   -0.008288\n",
      "268   -0.007110\n",
      "269   -0.000284\n",
      "270    0.004695\n",
      "271   -0.003085\n",
      "272   -0.007672\n",
      "273    0.008056\n",
      "274    0.000869\n",
      "275   -0.002905\n",
      "276   -0.005661\n",
      "277         NaN\n",
      "278   -0.002362\n",
      "279   -0.001354\n",
      "280    1.000000\n",
      "Name: 280, Length: 281, dtype: float64\n"
     ]
    }
   ],
   "source": [
    "print(dataset_train.corr()[:][280]) # individual correlation, variables with target"
   ]
  },
  {
   "cell_type": "code",
   "execution_count": 27,
   "metadata": {
    "collapsed": true
   },
   "outputs": [],
   "source": [
    "x_train = dataset_train.iloc[:,0:280]\n",
    "y_train = dataset_train.iloc[:,-1]\n",
    "\n",
    "x_test = dataset_test.iloc[:, 0:280]\n",
    "y_test = dataset_test.iloc[:,-1]"
   ]
  },
  {
   "cell_type": "code",
   "execution_count": 4,
   "metadata": {},
   "outputs": [
    {
     "name": "stderr",
     "output_type": "stream",
     "text": [
      "/home/gustavo/anaconda3/lib/python3.6/site-packages/sklearn/linear_model/coordinate_descent.py:491: ConvergenceWarning: Objective did not converge. You might want to increase the number of iterations. Fitting data with very small alpha may cause precision problems.\n",
      "  ConvergenceWarning)\n"
     ]
    },
    {
     "name": "stdout",
     "output_type": "stream",
     "text": [
      "0.24558153612\n"
     ]
    },
    {
     "name": "stderr",
     "output_type": "stream",
     "text": [
      "/home/gustavo/anaconda3/lib/python3.6/site-packages/sklearn/linear_model/coordinate_descent.py:491: ConvergenceWarning: Objective did not converge. You might want to increase the number of iterations. Fitting data with very small alpha may cause precision problems.\n",
      "  ConvergenceWarning)\n",
      "/home/gustavo/anaconda3/lib/python3.6/site-packages/sklearn/linear_model/coordinate_descent.py:491: ConvergenceWarning: Objective did not converge. You might want to increase the number of iterations. Fitting data with very small alpha may cause precision problems.\n",
      "  ConvergenceWarning)\n",
      "/home/gustavo/anaconda3/lib/python3.6/site-packages/sklearn/linear_model/coordinate_descent.py:491: ConvergenceWarning: Objective did not converge. You might want to increase the number of iterations. Fitting data with very small alpha may cause precision problems.\n",
      "  ConvergenceWarning)\n",
      "/home/gustavo/anaconda3/lib/python3.6/site-packages/sklearn/linear_model/coordinate_descent.py:491: ConvergenceWarning: Objective did not converge. You might want to increase the number of iterations. Fitting data with very small alpha may cause precision problems.\n",
      "  ConvergenceWarning)\n"
     ]
    },
    {
     "name": "stdout",
     "output_type": "stream",
     "text": [
      "[ -1.13487227e+01  -7.62852334e-03  -2.28425229e-01]\n",
      "0.24558153612\n",
      "1717.24145367\n"
     ]
    }
   ],
   "source": [
    "from sklearn.linear_model import LinearRegression, LassoCV\n",
    "\n",
    "# Create the regressor: reg\n",
    "reg = LassoCV()\n",
    "\n",
    "# Fit the model to the data\n",
    "reg.fit(x_train, y_train)\n",
    "\n",
    "# Compute predictions over the prediction space: y_pred\n",
    "y_pred = reg.predict(x_test)\n",
    "\n",
    "# Print R^2 \n",
    "print(reg.score(x_test, y_test))\n",
    "print(cross_val_score(reg, x_test, y_test,scoring='r2'))\n",
    "print(r2_score(y_test, y_pred))\n",
    "print(mean_squared_error(y_test, y_pred))"
   ]
  },
  {
   "cell_type": "code",
   "execution_count": 5,
   "metadata": {},
   "outputs": [
    {
     "name": "stdout",
     "output_type": "stream",
     "text": [
      "0.609538596591\n",
      "[-5.71276025  0.05429419 -2.1565494 ]\n",
      "0.609538596591\n",
      "888.785919346\n"
     ]
    }
   ],
   "source": [
    "from sklearn.ensemble import RandomForestRegressor\n",
    "\n",
    "model_rfg = RandomForestRegressor(n_estimators=25)\n",
    "\n",
    "model_rfg.fit(x_train, y_train)\n",
    "y_pred = model_rfg.predict(x_test)\n",
    "print(model_rfg.score(x_test, y_test))\n",
    "print(cross_val_score(model_rfg,x_test, y_test,scoring='r2'))\n",
    "print(r2_score(y_test, y_pred))"
   ]
  },
  {
   "cell_type": "code",
   "execution_count": 16,
   "metadata": {},
   "outputs": [
    {
     "name": "stdout",
     "output_type": "stream",
     "text": [
      "0.644637141067\n",
      "[ -1.10886349e+01   1.03945320e-02  -1.55454508e+00]\n",
      "0.644637141067\n"
     ]
    }
   ],
   "source": [
    "from sklearn.ensemble import GradientBoostingRegressor\n",
    "\n",
    "gbr = GradientBoostingRegressor(n_estimators=500)\n",
    "gbr.fit(x_train, y_train)\n",
    "y_pred = gbr.predict(x_test)\n",
    "print(gbr.score(x_test, y_test))\n",
    "print(cross_val_score(gbr,x_test, y_test,scoring='r2'))\n",
    "print(r2_score(y_test, y_pred))"
   ]
  },
  {
   "cell_type": "code",
   "execution_count": 10,
   "metadata": {},
   "outputs": [
    {
     "name": "stdout",
     "output_type": "stream",
     "text": [
      "{'fit_time': array([ 0.63242602,  0.57470202,  0.59269977,  0.59615779,  0.61103559]), 'score_time': array([ 0.00120258,  0.00116873,  0.00113606,  0.00115013,  0.00118041]), 'test_score': array([-12.11583434,   0.42410448,  -1.95813857,  -0.01333195,  -2.84821818]), 'train_score': array([ 0.99999982,  0.99999975,  0.99999981,  0.99999795,  0.9999997 ])}\n"
     ]
    }
   ],
   "source": [
    "from sklearn.model_selection import cross_validate\n",
    "cv = cross_validate(gbr, x_test, y_test, cv=5)\n",
    "print(cv)"
   ]
  },
  {
   "cell_type": "code",
   "execution_count": 46,
   "metadata": {
    "collapsed": true
   },
   "outputs": [],
   "source": [
    "def plota(x, y, y_pred): # nao funciona ainda\n",
    "    x_grid = np.arange(min(x), max(x), 0.01)\n",
    "    x_grid = x_grid.reshape((len(x_grid), 1))\n",
    "    plt.scatter(x,  y, color='red')\n",
    "    plt.plot(x_grid, y_pred, color='blue')\n",
    "    plt.ylabel('Number of comments')\n",
    "    plt.show()"
   ]
  }
 ],
 "metadata": {
  "kernelspec": {
   "display_name": "Python 3",
   "language": "python",
   "name": "python3"
  },
  "language_info": {
   "codemirror_mode": {
    "name": "ipython",
    "version": 3
   },
   "file_extension": ".py",
   "mimetype": "text/x-python",
   "name": "python",
   "nbconvert_exporter": "python",
   "pygments_lexer": "ipython3",
   "version": "3.5.4rc1"
  }
 },
 "nbformat": 4,
 "nbformat_minor": 2
}
