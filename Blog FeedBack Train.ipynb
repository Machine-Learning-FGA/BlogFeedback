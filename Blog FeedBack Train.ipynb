{
 "cells": [
  {
   "cell_type": "markdown",
   "metadata": {},
   "source": []
  },
  {
   "cell_type": "code",
   "execution_count": 1,
   "metadata": {},
   "outputs": [],
   "source": [
    "import pandas as pd\n",
    "import matplotlib.pyplot as plt\n",
    "import matplotlib as mpl\n",
    "import numpy as np\n",
    "from sklearn.metrics import r2_score, mean_squared_error\n",
    "from sklearn.model_selection import cross_val_score"
   ]
  },
  {
   "cell_type": "code",
   "execution_count": 2,
   "metadata": {},
   "outputs": [],
   "source": [
    "dataset_train = pd.read_csv('data/blogData_train.csv', header=None)\n",
    "dataset_test = pd.read_csv('data/blogData_test-2012.03.31.01_00.csv', header=None)"
   ]
  },
  {
   "cell_type": "code",
   "execution_count": 3,
   "metadata": {},
   "outputs": [
    {
     "data": {
      "image/png": "[encoded data removed]",
      "text/plain": [
       "<Figure size 864x864 with 1 Axes>"
      ]
     },
     "metadata": {},
     "output_type": "display_data"
    }
   ],
   "source": [
    "dados = dataset_train.iloc[:500, :280]\n",
    "\n",
    "from sklearn.manifold import TSNE\n",
    "mpl.rcParams['figure.figsize'] = (12, 12)\n",
    "tsne = TSNE(n_components=2)\n",
    "graf = tsne.fit_transform(dados)\n",
    "\n",
    "for xis in range(len(graf)):\n",
    "    plt.scatter(graf[xis][0], graf[xis][1], c='blue')\n",
    "plt.show()\n"
   ]
  },
  {
   "cell_type": "code",
   "execution_count": 4,
   "metadata": {},
   "outputs": [
    {
     "name": "stdout",
     "output_type": "stream",
     "text": [
      "<class 'pandas.core.frame.DataFrame'>\n",
      "RangeIndex: 52397 entries, 0 to 52396\n",
      "Columns: 281 entries, 0 to 280\n",
      "dtypes: float64(281)\n",
      "memory usage: 112.3 MB\n",
      "None\n"
     ]
    }
   ],
   "source": [
    "print(dataset_train.info())"
   ]
  },
  {
   "cell_type": "code",
   "execution_count": 5,
   "metadata": {},
   "outputs": [
    {
     "name": "stdout",
     "output_type": "stream",
     "text": [
      "0      0.485464\n",
      "1      0.424616\n",
      "2      0.053221\n",
      "3      0.356604\n",
      "4      0.491707\n",
      "5      0.497631\n",
      "6      0.433578\n",
      "7      0.034916\n",
      "8      0.322106\n",
      "9      0.506540\n",
      "10     0.490111\n",
      "11     0.439152\n",
      "12          NaN\n",
      "13     0.322775\n",
      "14     0.489674\n",
      "15     0.471999\n",
      "16     0.384654\n",
      "17     0.053221\n",
      "18     0.299688\n",
      "19     0.486316\n",
      "20     0.503375\n",
      "21     0.440003\n",
      "22    -0.280792\n",
      "23     0.320133\n",
      "24    -0.004137\n",
      "25     0.328525\n",
      "26     0.266815\n",
      "27    -0.001228\n",
      "28     0.247457\n",
      "29     0.338961\n",
      "         ...   \n",
      "251    0.017291\n",
      "252   -0.002369\n",
      "253    0.013099\n",
      "254    0.008334\n",
      "255   -0.001284\n",
      "256    0.013151\n",
      "257    0.001495\n",
      "258    0.003610\n",
      "259    0.005246\n",
      "260    0.019466\n",
      "261   -0.002411\n",
      "262   -0.004619\n",
      "263    0.017965\n",
      "264    0.011630\n",
      "265    0.001922\n",
      "266   -0.009389\n",
      "267   -0.008288\n",
      "268   -0.007110\n",
      "269   -0.000284\n",
      "270    0.004695\n",
      "271   -0.003085\n",
      "272   -0.007672\n",
      "273    0.008056\n",
      "274    0.000869\n",
      "275   -0.002905\n",
      "276   -0.005661\n",
      "277         NaN\n",
      "278   -0.002362\n",
      "279   -0.001354\n",
      "280    1.000000\n",
      "Name: 280, Length: 281, dtype: float64\n"
     ]
    }
   ],
   "source": [
    "print(dataset_train.corr()[:][280]) # individual correlation, variables with target"
   ]
  },
  {
   "cell_type": "markdown",
   "metadata": {},
   "source": [
    "## Attribute Information:\n",
    "\n",
    "|        Line       |                                                                                                                                  Description                                                                                                                                  |\n",
    "|:-----------------:|:-----------------------------------------------------------------------------------------------------------------------------------------------------------------------------------------------------------------------------------------------------------------------------:|\n",
    "|  **1**...**50**   | Average, standard deviation, min, max and median of the  Attributes 51...60 for the source of the current blog post  With source we mean the blog on which the post appeared.  For example, myblog.blog.org would be the source of  the post myblog.blog.org/post_2010_09_10  |\n",
    "|       **51**      |                                                                                                                   Total number of comments *before* basetime                                                                                                                  |\n",
    "|       **52**      |                                                                                                         Number of comments in the last 24 hours *before* the basetime                                                                                                         |\n",
    "|       **53**      |                                         Let T1 denote the datetime 48 hours *before* basetime,  Let T2 denote the datetime 24 hours *before* basetime.  This attribute is the number of comments in the time period  between T1 and T2                                        |\n",
    "|       **54**      |                                                                                    Number of comments in the first 24 hours after the  publication of the blog post, but *before* basetime                                                                                    |\n",
    "|       **55**      |                                                                                                                    The diference of attribute *52* and *53*                                                                                                                   |\n",
    "|  **56**...**60**  |                                              The same features as the attributes *51*...*55*, but  features *56*...*60* refer to the number of links (trackbacks),  while features *51*...*55* refer to the number of comments.                                               |\n",
    "|       **61**      |                                                                                                   The length of time between the publication of the blog post  and basetime                                                                                                   |\n",
    "|       **62**      |                                                                                                                          The length of the blog post                                                                                                                          |\n",
    "|  **63**...**262** |                                                                                              The 200 bag of *words* features for 200 frequent words of the  text of the blog post                                                                                             |\n",
    "| **263**...**269** |                                                                                              binary indicator features (0 or 1) for the weekday (Monday...Sunday) of the basetime                                                                                             |\n",
    "| **270**...**276** |                                                                              binary indicator features (0 or 1) for the weekday  (Monday...Sunday) of the date of publication of the blog  post                                                                               |\n",
    "|      **277**      |                                                                          Number of parent pages: we consider a blog post P as a  parent of blog post B, if B is a reply (trackback) to  blog post P.                                                                          |\n",
    "| **278**...**280** |                                                                                                     Minimum, maximum, average number of comments that the parents received                                                                                                    |\n",
    "|      **281**      |                                                                                                The target: the number of comments in the next 24 hours  (relative to basetime)                                                                                                |\n",
    "                                                                                                               |"
   ]
  },
  {
   "cell_type": "code",
   "execution_count": 6,
   "metadata": {},
   "outputs": [],
   "source": [
    "x_train = dataset_train.iloc[:,0:280]\n",
    "y_train = dataset_train.iloc[:,-1]\n",
    "\n",
    "x_test = dataset_test.iloc[:, 0:280]\n",
    "y_test = dataset_test.iloc[:,-1]"
   ]
  },
  {
   "cell_type": "code",
   "execution_count": 7,
   "metadata": {},
   "outputs": [
    {
     "name": "stderr",
     "output_type": "stream",
     "text": [
      "/home/anderson/.local/lib/python3.5/site-packages/sklearn/linear_model/coordinate_descent.py:491: ConvergenceWarning: Objective did not converge. You might want to increase the number of iterations. Fitting data with very small alpha may cause precision problems.\n",
      "  ConvergenceWarning)\n"
     ]
    },
    {
     "name": "stdout",
     "output_type": "stream",
     "text": [
      "0.24558153612024228\n"
     ]
    },
    {
     "name": "stderr",
     "output_type": "stream",
     "text": [
      "/home/anderson/.local/lib/python3.5/site-packages/sklearn/linear_model/coordinate_descent.py:491: ConvergenceWarning: Objective did not converge. You might want to increase the number of iterations. Fitting data with very small alpha may cause precision problems.\n",
      "  ConvergenceWarning)\n",
      "/home/anderson/.local/lib/python3.5/site-packages/sklearn/linear_model/coordinate_descent.py:491: ConvergenceWarning: Objective did not converge. You might want to increase the number of iterations. Fitting data with very small alpha may cause precision problems.\n",
      "  ConvergenceWarning)\n",
      "/home/anderson/.local/lib/python3.5/site-packages/sklearn/linear_model/coordinate_descent.py:491: ConvergenceWarning: Objective did not converge. You might want to increase the number of iterations. Fitting data with very small alpha may cause precision problems.\n",
      "  ConvergenceWarning)\n",
      "/home/anderson/.local/lib/python3.5/site-packages/sklearn/linear_model/coordinate_descent.py:491: ConvergenceWarning: Objective did not converge. You might want to increase the number of iterations. Fitting data with very small alpha may cause precision problems.\n",
      "  ConvergenceWarning)\n"
     ]
    },
    {
     "name": "stdout",
     "output_type": "stream",
     "text": [
      "[-1.13487227e+01 -7.62852334e-03 -2.28425229e-01]\n",
      "0.24558153612024225\n",
      "1717.2414536660017\n"
     ]
    }
   ],
   "source": [
    "from sklearn.linear_model import LinearRegression, LassoCV\n",
    "\n",
    "# Create the regressor: reg\n",
    "reg = LassoCV()\n",
    "\n",
    "# Fit the model to the data\n",
    "reg.fit(x_train, y_train)\n",
    "\n",
    "# Compute predictions over the prediction space: y_pred\n",
    "y_pred = reg.predict(x_test)\n",
    "\n",
    "# Print R^2 \n",
    "print(reg.score(x_test, y_test))\n",
    "print(cross_val_score(reg, x_test, y_test,scoring='r2'))\n",
    "print(r2_score(y_test, y_pred))\n",
    "print(mean_squared_error(y_test, y_pred))"
   ]
  },
  {
   "cell_type": "code",
   "execution_count": 8,
   "metadata": {},
   "outputs": [
    {
     "name": "stdout",
     "output_type": "stream",
     "text": [
      "0.6670300040681046\n",
      "[-3.72713154  0.0600144  -2.97109994]\n",
      "0.6670300040681045\n"
     ]
    }
   ],
   "source": [
    "from sklearn.ensemble import RandomForestRegressor\n",
    "\n",
    "model_rfg = RandomForestRegressor(n_estimators=25)\n",
    "\n",
    "model_rfg.fit(x_train, y_train)\n",
    "y_pred = model_rfg.predict(x_test)\n",
    "print(model_rfg.score(x_test, y_test))\n",
    "print(cross_val_score(model_rfg,x_test, y_test,scoring='r2'))\n",
    "print(r2_score(y_test, y_pred))"
   ]
  },
  {
   "cell_type": "code",
   "execution_count": 9,
   "metadata": {},
   "outputs": [
    {
     "name": "stdout",
     "output_type": "stream",
     "text": [
      "0.6383751998907967\n",
      "[-11.01702055   0.0215034   -0.49601301]\n",
      "0.6383751998907967\n"
     ]
    }
   ],
   "source": [
    "from sklearn.ensemble import GradientBoostingRegressor\n",
    "\n",
    "gbr = GradientBoostingRegressor(n_estimators=500)\n",
    "gbr.fit(x_train, y_train)\n",
    "y_pred = gbr.predict(x_test)\n",
    "print(gbr.score(x_test, y_test))\n",
    "print(cross_val_score(gbr,x_test, y_test,scoring='r2'))\n",
    "print(r2_score(y_test, y_pred))"
   ]
  },
  {
   "cell_type": "code",
   "execution_count": 10,
   "metadata": {},
   "outputs": [
    {
     "name": "stdout",
     "output_type": "stream",
     "text": [
      "{'train_score': array([0.99999982, 0.99999975, 0.99999981, 0.99999795, 0.9999997 ]), 'test_score': array([-12.13000729,   0.27917777,  -1.36119037,  -0.02434145,\n",
      "        -1.93847899]), 'fit_time': array([0.43546557, 0.40551996, 0.4206481 , 0.42235994, 0.45703888]), 'score_time': array([0.00098348, 0.00093317, 0.0009551 , 0.00097632, 0.00096917])}\n"
     ]
    }
   ],
   "source": [
    "from sklearn.model_selection import cross_validate\n",
    "cv = cross_validate(gbr, x_test, y_test, cv=5)\n",
    "print(cv)"
   ]
  },
  {
   "cell_type": "code",
   "execution_count": 11,
   "metadata": {},
   "outputs": [],
   "source": [
    "def plota(x, y, y_pred): # nao funciona ainda\n",
    "    x_grid = np.arange(min(x), max(x), 0.01)\n",
    "    x_grid = x_grid.reshape((len(x_grid), 1))\n",
    "    plt.scatter(x,  y, color='red')\n",
    "    plt.plot(x_grid, y_pred, color='blue')\n",
    "    plt.ylabel('Number of comments')\n",
    "    plt.show()"
   ]
  }
 ],
 "metadata": {
  "kernelspec": {
   "display_name": "Python 3",
   "language": "python",
   "name": "python3"
  },
  "language_info": {
   "codemirror_mode": {
    "name": "ipython",
    "version": 3
   },
   "file_extension": ".py",
   "mimetype": "text/x-python",
   "name": "python",
   "nbconvert_exporter": "python",
   "pygments_lexer": "ipython3",
   "version": "3.6.4"
  }
 },
 "nbformat": 4,
 "nbformat_minor": 2
}
