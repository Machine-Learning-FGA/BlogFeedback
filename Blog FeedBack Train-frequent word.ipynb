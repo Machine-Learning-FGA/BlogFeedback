{
 "cells": [
  {
   "cell_type": "code",
   "execution_count": 1,
   "metadata": {},
   "outputs": [],
   "source": [
    "import pandas as pd\n",
    "import matplotlib.pyplot as plt\n",
    "import matplotlib as mpl\n",
    "import numpy as np\n",
    "from sklearn.metrics import r2_score, mean_squared_error\n",
    "from sklearn.model_selection import cross_val_score"
   ]
  },
  {
   "cell_type": "code",
   "execution_count": 3,
   "metadata": {},
   "outputs": [],
   "source": [
    "dataset_train = pd.read_csv('data/modified/addFeatureTrain.csv')\n",
    "dataset_test = pd.read_csv('data/modified/addFeatureTest.csv')"
   ]
  },
  {
   "cell_type": "code",
   "execution_count": 6,
   "metadata": {},
   "outputs": [
    {
     "data": {
      "image/png": "[encoded data removed]",
      "text/plain": [
       "<matplotlib.figure.Figure at 0x7fdfd2afe080>"
      ]
     },
     "metadata": {},
     "output_type": "display_data"
    }
   ],
   "source": [
    "dados = dataset_train.iloc[:500, :280]\n",
    "\n",
    "from sklearn.manifold import TSNE\n",
    "mpl.rcParams['figure.figsize'] = (12, 12)\n",
    "tsne = TSNE(n_components=2)\n",
    "graf = tsne.fit_transform(dados)\n",
    "\n",
    "for xis in range(len(graf)):\n",
    "    plt.scatter(graf[xis][0], graf[xis][1], c='blue')\n",
    "plt.show()"
   ]
  },
  {
   "cell_type": "code",
   "execution_count": 7,
   "metadata": {},
   "outputs": [
    {
     "name": "stdout",
     "output_type": "stream",
     "text": [
      "<class 'pandas.core.frame.DataFrame'>\n",
      "RangeIndex: 52397 entries, 0 to 52396\n",
      "Columns: 361 entries, V1 to V101_V143_V213_V232_V246\n",
      "dtypes: float64(361)\n",
      "memory usage: 144.3 MB\n",
      "None\n"
     ]
    }
   ],
   "source": [
    "print(dataset_train.info())"
   ]
  },
  {
   "cell_type": "code",
   "execution_count": 20,
   "metadata": {},
   "outputs": [],
   "source": [
    "x_train = dataset_train.drop(columns=['y'])\n",
    "y_train = dataset_train['y']\n",
    "\n",
    "x_test = dataset_test.drop(columns=['y'])\n",
    "y_test = dataset_test['y']"
   ]
  },
  {
   "cell_type": "code",
   "execution_count": 21,
   "metadata": {},
   "outputs": [
    {
     "name": "stdout",
     "output_type": "stream",
     "text": [
      "0.39965314430115606\n"
     ]
    },
    {
     "name": "stderr",
     "output_type": "stream",
     "text": [
      "/home/marcelo/anaconda3/lib/python3.6/site-packages/sklearn/linear_model/coordinate_descent.py:491: ConvergenceWarning: Objective did not converge. You might want to increase the number of iterations. Fitting data with very small alpha may cause precision problems.\n",
      "  ConvergenceWarning)\n",
      "/home/marcelo/anaconda3/lib/python3.6/site-packages/sklearn/linear_model/coordinate_descent.py:491: ConvergenceWarning: Objective did not converge. You might want to increase the number of iterations. Fitting data with very small alpha may cause precision problems.\n",
      "  ConvergenceWarning)\n"
     ]
    },
    {
     "name": "stdout",
     "output_type": "stream",
     "text": [
      "[0.47117616 0.37421046 0.41605913]\n",
      "0.39965314430115606\n",
      "0.6649565958988303\n"
     ]
    }
   ],
   "source": [
    "from sklearn.linear_model import LinearRegression, LassoCV\n",
    "\n",
    "# Create the regressor: reg\n",
    "reg = LassoCV()\n",
    "\n",
    "# Fit the model to the data\n",
    "reg.fit(x_train, y_train)\n",
    "\n",
    "# Compute predictions over the prediction space: y_pred\n",
    "y_pred = reg.predict(x_test)\n",
    "\n",
    "# Print R^2 \n",
    "print(reg.score(x_test, y_test))\n",
    "print(cross_val_score(reg, x_test, y_test,scoring='r2'))\n",
    "print(r2_score(y_test, y_pred))\n",
    "print(mean_squared_error(y_test, y_pred))"
   ]
  },
  {
   "cell_type": "code",
   "execution_count": 22,
   "metadata": {},
   "outputs": [
    {
     "name": "stdout",
     "output_type": "stream",
     "text": [
      "0.6199768004787369\n",
      "[0.63588973 0.614595   0.62999782]\n",
      "0.6199768004787369\n"
     ]
    }
   ],
   "source": [
    "from sklearn.ensemble import RandomForestRegressor\n",
    "\n",
    "model_rfg = RandomForestRegressor(n_estimators=25)\n",
    "\n",
    "model_rfg.fit(x_train, y_train)\n",
    "y_pred = model_rfg.predict(x_test)\n",
    "print(model_rfg.score(x_test, y_test))\n",
    "print(cross_val_score(model_rfg,x_test, y_test,scoring='r2'))\n",
    "print(r2_score(y_test, y_pred))"
   ]
  },
  {
   "cell_type": "code",
   "execution_count": 23,
   "metadata": {},
   "outputs": [
    {
     "name": "stdout",
     "output_type": "stream",
     "text": [
      "0.6398435178310757\n",
      "[0.64185295 0.62106985 0.62574133]\n",
      "0.6398435178310757\n"
     ]
    }
   ],
   "source": [
    "from sklearn.ensemble import GradientBoostingRegressor\n",
    "\n",
    "gbr = GradientBoostingRegressor(n_estimators=500)\n",
    "gbr.fit(x_train, y_train)\n",
    "y_pred = gbr.predict(x_test)\n",
    "print(gbr.score(x_test, y_test))\n",
    "print(cross_val_score(gbr,x_test, y_test,scoring='r2'))\n",
    "print(r2_score(y_test, y_pred))"
   ]
  },
  {
   "cell_type": "code",
   "execution_count": null,
   "metadata": {},
   "outputs": [],
   "source": []
  }
 ],
 "metadata": {
  "kernelspec": {
   "display_name": "Python 3",
   "language": "python",
   "name": "python3"
  },
  "language_info": {
   "codemirror_mode": {
    "name": "ipython",
    "version": 3
   },
   "file_extension": ".py",
   "mimetype": "text/x-python",
   "name": "python",
   "nbconvert_exporter": "python",
   "pygments_lexer": "ipython3",
   "version": "3.6.4"
  }
 },
 "nbformat": 4,
 "nbformat_minor": 2
}
