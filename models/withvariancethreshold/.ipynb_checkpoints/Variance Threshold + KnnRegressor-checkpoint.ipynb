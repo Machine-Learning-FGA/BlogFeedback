{
 "cells": [
  {
   "cell_type": "code",
   "execution_count": 50,
   "metadata": {},
   "outputs": [],
   "source": [
    "import pandas as pd"
   ]
  },
  {
   "cell_type": "code",
   "execution_count": 51,
   "metadata": {},
   "outputs": [],
   "source": [
    "dataset_train = pd.read_csv('../../data/modified/blogData_newTrain.csv')\n",
    "dataset_test = pd.read_csv('../../data/modified/blogData_newTest.csv')"
   ]
  },
  {
   "cell_type": "code",
   "execution_count": 52,
   "metadata": {},
   "outputs": [],
   "source": [
    "x_test = dataset_test.iloc[:, 0:280]\n",
    "y_test = dataset_test.iloc[:,-1]"
   ]
  },
  {
   "cell_type": "code",
   "execution_count": 53,
   "metadata": {},
   "outputs": [],
   "source": [
    "x_train = dataset_train.iloc[:,0:280]\n",
    "y_train = dataset_train.iloc[:,-1]"
   ]
  },
  {
   "cell_type": "code",
   "execution_count": 54,
   "metadata": {},
   "outputs": [],
   "source": [
    "dados = dataset_train.iloc[:500, :280]"
   ]
  },
  {
   "cell_type": "code",
   "execution_count": 55,
   "metadata": {},
   "outputs": [
    {
     "name": "stdout",
     "output_type": "stream",
     "text": [
      "0.8729777911064461\n",
      "0.12702220889355392\n"
     ]
    }
   ],
   "source": [
    "print(len(x_train)/(len(x_train) + len(x_test))) # % de treino\n",
    "print(len(x_test)/(len(x_train) + len(x_test))) # % de teste"
   ]
  },
  {
   "cell_type": "code",
   "execution_count": 56,
   "metadata": {},
   "outputs": [
    {
     "name": "stdout",
     "output_type": "stream",
     "text": [
      "Execution time: 10.763692140579224 seconds\n",
      "R2 score: 0.35118008800150924\n",
      "[0.43473518 0.33559719 0.34675272]\n",
      "MAE: 5.695508336248105\n"
     ]
    }
   ],
   "source": [
    "from sklearn.neighbors import KNeighborsRegressor\n",
    "from sklearn.metrics import mean_absolute_error\n",
    "from sklearn.model_selection import cross_val_score\n",
    "import time\n",
    "\n",
    "init = time.time()\n",
    "\n",
    "neigh = KNeighborsRegressor(n_neighbors=9)\n",
    "neigh.fit(x_train, y_train)\n",
    "y_pred = neigh.predict(x_test)\n",
    "cv = cross_val_score(neigh,x_test, y_test,scoring='r2')\n",
    "neigh_score = neigh.score(x_test, y_test)\n",
    "mae = mean_absolute_error(y_test, y_pred)\n",
    "\n",
    "print('Execution time: {} seconds'.format(str(time.time() - init)))\n",
    "print('R2 score: {}'.format(neigh_score))\n",
    "print(cv)\n",
    "print('MAE: {}'.format(mae))"
   ]
  },
  {
   "cell_type": "code",
   "execution_count": 57,
   "metadata": {},
   "outputs": [
    {
     "name": "stdout",
     "output_type": "stream",
     "text": [
      "[ 0.49326512 -0.11497117  0.70228984  0.38513362  0.44769003  0.17587536\n",
      "  0.30904336  0.28901337  0.37260794  0.43175051]\n",
      "Mean : 0.34916979783582397\n"
     ]
    }
   ],
   "source": [
    "import numpy as np\n",
    "\n",
    "k = 10  # 10-fold\n",
    "scores = cross_val_score(neigh,x_test, y_test,cv= k)\n",
    "print(scores)\n",
    "hite_rate = np.mean(scores) \n",
    "print(\"Mean : \" + str(hite_rate))"
   ]
  },
  {
   "cell_type": "code",
   "execution_count": null,
   "metadata": {},
   "outputs": [],
   "source": []
  }
 ],
 "metadata": {
  "kernelspec": {
   "display_name": "Python 3",
   "language": "python",
   "name": "python3"
  },
  "language_info": {
   "codemirror_mode": {
    "name": "ipython",
    "version": 3
   },
   "file_extension": ".py",
   "mimetype": "text/x-python",
   "name": "python",
   "nbconvert_exporter": "python",
   "pygments_lexer": "ipython3",
   "version": "3.6.4"
  }
 },
 "nbformat": 4,
 "nbformat_minor": 2
}
