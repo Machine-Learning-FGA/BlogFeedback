{
 "cells": [
  {
   "cell_type": "code",
   "execution_count": 1,
   "metadata": {},
   "outputs": [],
   "source": [
    "import pandas as pd"
   ]
  },
  {
   "cell_type": "code",
   "execution_count": 2,
   "metadata": {},
   "outputs": [],
   "source": [
    "dataset_train = pd.read_csv('../../data/modified/blogData_newTrain.csv')\n",
    "dataset_test = pd.read_csv('../../data/modified/blogData_newTest.csv')"
   ]
  },
  {
   "cell_type": "code",
   "execution_count": 3,
   "metadata": {},
   "outputs": [],
   "source": [
    "x_test = dataset_test.iloc[:, 0:-1]\n",
    "y_test = dataset_test.iloc[:,-1]"
   ]
  },
  {
   "cell_type": "code",
   "execution_count": 4,
   "metadata": {},
   "outputs": [],
   "source": [
    "x_train = dataset_train.iloc[:,0:-1]\n",
    "y_train = dataset_train.iloc[:,-1]"
   ]
  },
  {
   "cell_type": "code",
   "execution_count": 5,
   "metadata": {},
   "outputs": [
    {
     "name": "stdout",
     "output_type": "stream",
     "text": [
      "0.8729777911064461\n",
      "0.12702220889355392\n"
     ]
    }
   ],
   "source": [
    "print(len(x_train)/(len(x_train) + len(x_test))) # % de treino\n",
    "print(len(x_test)/(len(x_train) + len(x_test))) # % de teste"
   ]
  },
  {
   "cell_type": "code",
   "execution_count": 6,
   "metadata": {},
   "outputs": [
    {
     "name": "stdout",
     "output_type": "stream",
     "text": [
      "Execution time: 4.760094404220581 seconds\n",
      "R2 score: 0.35112371914498\n",
      "[0.43472666 0.33559133 0.34675241]\n",
      "MAE: 5.693001632272356\n"
     ]
    }
   ],
   "source": [
    "from sklearn.neighbors import KNeighborsRegressor\n",
    "from sklearn.metrics import mean_absolute_error\n",
    "from sklearn.model_selection import cross_val_score\n",
    "import time\n",
    "\n",
    "init = time.time()\n",
    "\n",
    "neigh = KNeighborsRegressor(n_neighbors=9)\n",
    "neigh.fit(x_train, y_train)\n",
    "y_pred = neigh.predict(x_test)\n",
    "cv = cross_val_score(neigh,x_test, y_test,scoring='r2')\n",
    "neigh_score = neigh.score(x_test, y_test)\n",
    "mae = mean_absolute_error(y_test, y_pred)\n",
    "\n",
    "print('Execution time: {} seconds'.format(str(time.time() - init)))\n",
    "print('R2 score: {}'.format(neigh_score))\n",
    "print(cv)\n",
    "print('MAE: {}'.format(mae))"
   ]
  },
  {
   "cell_type": "code",
   "execution_count": 7,
   "metadata": {},
   "outputs": [
    {
     "name": "stdout",
     "output_type": "stream",
     "text": [
      "[ 0.49325643 -0.11492141  0.70225846  0.38511923  0.44767236  0.17601162\n",
      "  0.30905143  0.28900797  0.37265761  0.43172241]\n",
      "Mean : 0.3491836113155978\n"
     ]
    }
   ],
   "source": [
    "import numpy as np\n",
    "\n",
    "k = 10  # 10-fold\n",
    "scores = cross_val_score(neigh,x_test, y_test,cv= k)\n",
    "print(scores)\n",
    "hite_rate = np.mean(scores) \n",
    "print(\"Mean : \" + str(hite_rate))"
   ]
  },
  {
   "cell_type": "code",
   "execution_count": null,
   "metadata": {},
   "outputs": [],
   "source": []
  }
 ],
 "metadata": {
  "kernelspec": {
   "display_name": "Python 3",
   "language": "python",
   "name": "python3"
  },
  "language_info": {
   "codemirror_mode": {
    "name": "ipython",
    "version": 3
   },
   "file_extension": ".py",
   "mimetype": "text/x-python",
   "name": "python",
   "nbconvert_exporter": "python",
   "pygments_lexer": "ipython3",
   "version": "3.6.4"
  }
 },
 "nbformat": 4,
 "nbformat_minor": 2
}
