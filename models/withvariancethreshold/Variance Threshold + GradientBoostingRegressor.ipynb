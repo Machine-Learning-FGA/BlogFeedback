{
 "cells": [
  {
   "cell_type": "markdown",
   "metadata": {},
   "source": []
  },
  {
   "cell_type": "code",
   "execution_count": 1,
   "metadata": {
    "collapsed": true
   },
   "outputs": [],
   "source": [
    "import pandas as pd\n",
    "import matplotlib.pyplot as plt\n",
    "import matplotlib as mpl\n",
    "import numpy as np\n",
    "from sklearn.metrics import r2_score, mean_squared_error\n",
    "from sklearn.model_selection import cross_val_score"
   ]
  },
  {
   "cell_type": "code",
   "execution_count": 2,
   "metadata": {
    "collapsed": true
   },
   "outputs": [],
   "source": [
    "dataset_train = pd.read_csv('../../data/modified/blogData_newTrain.csv')\n",
    "dataset_test = pd.read_csv('../../data/modified/blogData_newTest.csv')\n",
    "\n",
    "LAST_COL = dataset_train.shape[1]"
   ]
  },
  {
   "cell_type": "markdown",
   "metadata": {},
   "source": [
    "## Attribute Information:\n",
    "\n",
    "|        Line       |                                                                                                                                  Description                                                                                                                                  |\n",
    "|:-----------------:|:-----------------------------------------------------------------------------------------------------------------------------------------------------------------------------------------------------------------------------------------------------------------------------:|\n",
    "|  **1**...**50**   | Average, standard deviation, min, max and median of the  Attributes 51...60 for the source of the current blog post  With source we mean the blog on which the post appeared.  For example, myblog.blog.org would be the source of  the post myblog.blog.org/post_2010_09_10  |\n",
    "|       **51**      |                                                                                                                   Total number of comments *before* basetime                                                                                                                  |\n",
    "|       **52**      |                                                                                                         Number of comments in the last 24 hours *before* the basetime                                                                                                         |\n",
    "|       **53**      |                                         Let T1 denote the datetime 48 hours *before* basetime,  Let T2 denote the datetime 24 hours *before* basetime.  This attribute is the number of comments in the time period  between T1 and T2                                        |\n",
    "|       **54**      |                                                                                    Number of comments in the first 24 hours after the  publication of the blog post, but *before* basetime                                                                                    |\n",
    "|       **55**      |                                                                                                                    The diference of attribute *52* and *53*                                                                                                                   |\n",
    "|  **56**...**60**  |                                              The same features as the attributes *51*...*55*, but  features *56*...*60* refer to the number of links (trackbacks),  while features *51*...*55* refer to the number of comments.                                               |\n",
    "|       **61**      |                                                                                                   The length of time between the publication of the blog post  and basetime                                                                                                   |\n",
    "|       **62**      |                                                                                                                          The length of the blog post                                                                                                                          |\n",
    "|  **63**...**262** |                                                                                              The 200 bag of *words* features for 200 frequent words of the  text of the blog post                                                                                             |\n",
    "| **263**...**269** |                                                                                              binary indicator features (0 or 1) for the weekday (Monday...Sunday) of the basetime                                                                                             |\n",
    "| **270**...**276** |                                                                              binary indicator features (0 or 1) for the weekday  (Monday...Sunday) of the date of publication of the blog  post                                                                               |\n",
    "|      **277**      |                                                                          Number of parent pages: we consider a blog post P as a  parent of blog post B, if B is a reply (trackback) to  blog post P.                                                                          |\n",
    "| **278**...**280** |                                                                                                     Minimum, maximum, average number of comments that the parents received                                                                                                    |\n",
    "|      **281**      |                                                                                                The target: the number of comments in the next 24 hours  (relative to basetime)                                                                                                |\n",
    "                                                                                                               |"
   ]
  },
  {
   "cell_type": "code",
   "execution_count": 3,
   "metadata": {},
   "outputs": [
    {
     "data": {
      "image/png": "[encoded data removed]",
      "text/plain": [
       "<matplotlib.figure.Figure at 0x7f1be422c198>"
      ]
     },
     "metadata": {},
     "output_type": "display_data"
    }
   ],
   "source": [
    "dados = dataset_train.iloc[:500, :LAST_COL]\n",
    "\n",
    "from sklearn.manifold import TSNE\n",
    "mpl.rcParams['figure.figsize'] = (10, 10)\n",
    "tsne = TSNE(n_components=2)\n",
    "graf = tsne.fit_transform(dados)\n",
    "\n",
    "for xis in range(len(graf)):\n",
    "    plt.scatter(graf[xis][0], graf[xis][1], c='blue')\n",
    "plt.show()\n"
   ]
  },
  {
   "cell_type": "code",
   "execution_count": 4,
   "metadata": {},
   "outputs": [
    {
     "name": "stdout",
     "output_type": "stream",
     "text": [
      "<class 'pandas.core.frame.DataFrame'>\n",
      "RangeIndex: 52397 entries, 0 to 52396\n",
      "Data columns (total 68 columns):\n",
      "X1      52397 non-null float64\n",
      "X2      52397 non-null float64\n",
      "X3      52397 non-null float64\n",
      "X4      52397 non-null float64\n",
      "X5      52397 non-null float64\n",
      "X6      52397 non-null float64\n",
      "X7      52397 non-null float64\n",
      "X8      52397 non-null float64\n",
      "X9      52397 non-null float64\n",
      "X10     52397 non-null float64\n",
      "X11     52397 non-null float64\n",
      "X12     52397 non-null float64\n",
      "X14     52397 non-null float64\n",
      "X15     52397 non-null float64\n",
      "X16     52397 non-null float64\n",
      "X17     52397 non-null float64\n",
      "X18     52397 non-null float64\n",
      "X19     52397 non-null float64\n",
      "X20     52397 non-null float64\n",
      "X21     52397 non-null float64\n",
      "X22     52397 non-null float64\n",
      "X23     52397 non-null float64\n",
      "X24     52397 non-null float64\n",
      "X25     52397 non-null float64\n",
      "X26     52397 non-null float64\n",
      "X27     52397 non-null float64\n",
      "X29     52397 non-null float64\n",
      "X30     52397 non-null float64\n",
      "X32     52397 non-null float64\n",
      "X34     52397 non-null float64\n",
      "X37     52397 non-null float64\n",
      "X39     52397 non-null float64\n",
      "X41     52397 non-null float64\n",
      "X42     52397 non-null float64\n",
      "X44     52397 non-null float64\n",
      "X45     52397 non-null float64\n",
      "X47     52397 non-null float64\n",
      "X48     52397 non-null float64\n",
      "X49     52397 non-null float64\n",
      "X51     52397 non-null float64\n",
      "X52     52397 non-null float64\n",
      "X53     52397 non-null float64\n",
      "X54     52397 non-null float64\n",
      "X55     52397 non-null float64\n",
      "X56     52397 non-null float64\n",
      "X57     52397 non-null float64\n",
      "X58     52397 non-null float64\n",
      "X59     52397 non-null float64\n",
      "X60     52397 non-null float64\n",
      "X61     52397 non-null float64\n",
      "X62     52397 non-null float64\n",
      "X67     52397 non-null float64\n",
      "X69     52397 non-null float64\n",
      "X101    52397 non-null float64\n",
      "X122    52397 non-null float64\n",
      "X139    52397 non-null float64\n",
      "X143    52397 non-null float64\n",
      "X151    52397 non-null float64\n",
      "X158    52397 non-null float64\n",
      "X210    52397 non-null float64\n",
      "X213    52397 non-null float64\n",
      "X226    52397 non-null float64\n",
      "X232    52397 non-null float64\n",
      "X246    52397 non-null float64\n",
      "X277    52397 non-null float64\n",
      "X279    52397 non-null float64\n",
      "X280    52397 non-null float64\n",
      "Y       52397 non-null float64\n",
      "dtypes: float64(68)\n",
      "memory usage: 27.2 MB\n",
      "None\n"
     ]
    }
   ],
   "source": [
    "print(dataset_train.info())"
   ]
  },
  {
   "cell_type": "code",
   "execution_count": 5,
   "metadata": {},
   "outputs": [
    {
     "data": {
      "image/png": "[encoded data removed]",
      "text/plain": [
       "<matplotlib.figure.Figure at 0x7f1bd66736d8>"
      ]
     },
     "metadata": {},
     "output_type": "display_data"
    }
   ],
   "source": [
    "y_aux = dataset_train.corr()[\"Y\"] # individual correlation, variables with target\n",
    "x_aux = dataset_train.columns\n",
    "plt.bar(x_aux[0:len(y_aux)-1], y_aux[0:len(y_aux)-1])\n",
    "plt.show()"
   ]
  },
  {
   "cell_type": "code",
   "execution_count": 6,
   "metadata": {
    "collapsed": true
   },
   "outputs": [],
   "source": [
    "x_train = dataset_train.iloc[:,0:-1]\n",
    "y_train = dataset_train.iloc[:,-1]\n",
    "\n",
    "x_test = dataset_test.iloc[:, 0:-1]\n",
    "y_test = dataset_test.iloc[:,-1]"
   ]
  },
  {
   "cell_type": "code",
   "execution_count": 7,
   "metadata": {},
   "outputs": [
    {
     "name": "stdout",
     "output_type": "stream",
     "text": [
      "Execution time: 49.11903095245361 seconds\n",
      "R2 score: 0.43672688837635776\n",
      "[ 0.37466463  0.13976746  0.4357027 ]\n",
      "MAE: 5.267729263683793\n"
     ]
    }
   ],
   "source": [
    "import time\n",
    "from sklearn.ensemble import GradientBoostingRegressor\n",
    "from sklearn.metrics import mean_absolute_error\n",
    "\n",
    "init = time.time()\n",
    "gbr = GradientBoostingRegressor(n_estimators=500)\n",
    "gbr.fit(x_train, y_train)\n",
    "y_pred = gbr.predict(x_test)\n",
    "print('Execution time: {} seconds'.format(str(time.time() - init)))\n",
    "print('R2 score: {}'.format(gbr.score(x_test, y_test)))\n",
    "print(cross_val_score(gbr,x_test, y_test,scoring='r2'))\n",
    "print('MAE: {}'.format(mean_absolute_error(y_test, y_pred)))"
   ]
  },
  {
   "cell_type": "code",
   "execution_count": 8,
   "metadata": {},
   "outputs": [
    {
     "name": "stdout",
     "output_type": "stream",
     "text": [
      "{'fit_time': array([ 5.96743941,  6.06777525,  5.66349769,  5.60551953,  5.70193195]), 'score_time': array([ 0.00919437,  0.01014113,  0.00869465,  0.00911498,  0.00886154]), 'test_score': array([ 0.26572329,  0.47070087,  0.24782019,  0.41104918,  0.48473572]), 'train_score': array([ 0.95346687,  0.95243531,  0.95807093,  0.942323  ,  0.95803858])}\n"
     ]
    }
   ],
   "source": [
    "from sklearn.model_selection import cross_validate\n",
    "cv = cross_validate(gbr, x_test, y_test, cv=5)\n",
    "print(cv)"
   ]
  }
 ],
 "metadata": {
  "kernelspec": {
   "display_name": "Python 3",
   "language": "python",
   "name": "python3"
  },
  "language_info": {
   "codemirror_mode": {
    "name": "ipython",
    "version": 3
   },
   "file_extension": ".py",
   "mimetype": "text/x-python",
   "name": "python",
   "nbconvert_exporter": "python",
   "pygments_lexer": "ipython3",
   "version": "3.6.3"
  }
 },
 "nbformat": 4,
 "nbformat_minor": 2
}
