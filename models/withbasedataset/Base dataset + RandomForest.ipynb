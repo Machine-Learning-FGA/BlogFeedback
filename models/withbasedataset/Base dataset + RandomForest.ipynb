{
 "cells": [
  {
   "cell_type": "markdown",
   "metadata": {},
   "source": []
  },
  {
   "cell_type": "code",
   "execution_count": 1,
   "metadata": {
    "collapsed": true
   },
   "outputs": [],
   "source": [
    "import pandas as pd\n",
    "import matplotlib.pyplot as plt\n",
    "import matplotlib as mpl\n",
    "import numpy as np\n",
    "from sklearn.metrics import r2_score, mean_squared_error\n",
    "from sklearn.model_selection import cross_val_score"
   ]
  },
  {
   "cell_type": "code",
   "execution_count": 2,
   "metadata": {
    "collapsed": true
   },
   "outputs": [],
   "source": [
    "dataset_train = pd.read_csv('../../data/blogData_train.csv', header=None)\n",
    "dataset_test = pd.read_csv('../../data/modified/blogData_test.csv', header=None)"
   ]
  },
  {
   "cell_type": "code",
   "execution_count": 3,
   "metadata": {},
   "outputs": [
    {
     "data": {
      "image/png": "[encoded data removed]",
      "text/plain": [
       "<matplotlib.figure.Figure at 0x7f112ce9e208>"
      ]
     },
     "metadata": {},
     "output_type": "display_data"
    }
   ],
   "source": [
    "dados = dataset_train.iloc[:500, :-1]\n",
    "\n",
    "from sklearn.manifold import TSNE\n",
    "mpl.rcParams['figure.figsize'] = (10, 10)\n",
    "tsne = TSNE(n_components=2)\n",
    "graf = tsne.fit_transform(dados)\n",
    "\n",
    "for xis in range(len(graf)):\n",
    "    plt.scatter(graf[xis][0], graf[xis][1], c='blue')\n",
    "plt.show()\n"
   ]
  },
  {
   "cell_type": "code",
   "execution_count": 4,
   "metadata": {},
   "outputs": [
    {
     "name": "stdout",
     "output_type": "stream",
     "text": [
      "<class 'pandas.core.frame.DataFrame'>\n",
      "RangeIndex: 52397 entries, 0 to 52396\n",
      "Columns: 281 entries, 0 to 280\n",
      "dtypes: float64(281)\n",
      "memory usage: 112.3 MB\n",
      "None\n"
     ]
    }
   ],
   "source": [
    "print(dataset_train.info())"
   ]
  },
  {
   "cell_type": "code",
   "execution_count": 5,
   "metadata": {},
   "outputs": [
    {
     "data": {
      "image/png": "[encoded data removed]",
      "text/plain": [
       "<matplotlib.figure.Figure at 0x7f11192f25f8>"
      ]
     },
     "metadata": {},
     "output_type": "display_data"
    }
   ],
   "source": [
    "x_aux = np.arange(281)\n",
    "y_aux = dataset_train.corr()[:][280] # individual correlation, variables with target\n",
    "\n",
    "plt.bar(x_aux[0:-1], y_aux[0:-1])\n",
    "plt.show()"
   ]
  },
  {
   "cell_type": "markdown",
   "metadata": {},
   "source": [
    "## Attribute Information:\n",
    "\n",
    "|        Line       |                                                                                                                                  Description                                                                                                                                  |\n",
    "|:-----------------:|:-----------------------------------------------------------------------------------------------------------------------------------------------------------------------------------------------------------------------------------------------------------------------------:|\n",
    "|  **1**...**50**   | Average, standard deviation, min, max and median of the  Attributes 51...60 for the source of the current blog post  With source we mean the blog on which the post appeared.  For example, myblog.blog.org would be the source of  the post myblog.blog.org/post_2010_09_10  |\n",
    "|       **51**      |                                                                                                                   Total number of comments *before* basetime                                                                                                                  |\n",
    "|       **52**      |                                                                                                         Number of comments in the last 24 hours *before* the basetime                                                                                                         |\n",
    "|       **53**      |                                         Let T1 denote the datetime 48 hours *before* basetime,  Let T2 denote the datetime 24 hours *before* basetime.  This attribute is the number of comments in the time period  between T1 and T2                                        |\n",
    "|       **54**      |                                                                                    Number of comments in the first 24 hours after the  publication of the blog post, but *before* basetime                                                                                    |\n",
    "|       **55**      |                                                                                                                    The diference of attribute *52* and *53*                                                                                                                   |\n",
    "|  **56**...**60**  |                                              The same features as the attributes *51*...*55*, but  features *56*...*60* refer to the number of links (trackbacks),  while features *51*...*55* refer to the number of comments.                                               |\n",
    "|       **61**      |                                                                                                   The length of time between the publication of the blog post  and basetime                                                                                                   |\n",
    "|       **62**      |                                                                                                                          The length of the blog post                                                                                                                          |\n",
    "|  **63**...**262** |                                                                                              The 200 bag of *words* features for 200 frequent words of the  text of the blog post                                                                                             |\n",
    "| **263**...**269** |                                                                                              binary indicator features (0 or 1) for the weekday (Monday...Sunday) of the basetime                                                                                             |\n",
    "| **270**...**276** |                                                                              binary indicator features (0 or 1) for the weekday  (Monday...Sunday) of the date of publication of the blog  post                                                                               |\n",
    "|      **277**      |                                                                          Number of parent pages: we consider a blog post P as a  parent of blog post B, if B is a reply (trackback) to  blog post P.                                                                          |\n",
    "| **278**...**280** |                                                                                                     Minimum, maximum, average number of comments that the parents received                                                                                                    |\n",
    "|      **281**      |                                                                                                The target: the number of comments in the next 24 hours  (relative to basetime)                                                                                                |\n",
    "                                                                                                               |"
   ]
  },
  {
   "cell_type": "code",
   "execution_count": 6,
   "metadata": {
    "collapsed": true
   },
   "outputs": [],
   "source": [
    "x_train = dataset_train.iloc[:,0:-1]\n",
    "y_train = dataset_train.iloc[:,-1]\n",
    "\n",
    "x_test = dataset_test.iloc[:, 0:-1]\n",
    "y_test = dataset_test.iloc[:,-1]"
   ]
  },
  {
   "cell_type": "code",
   "execution_count": 7,
   "metadata": {},
   "outputs": [
    {
     "name": "stdout",
     "output_type": "stream",
     "text": [
      "Execution time: 61.21118664741516 seconds\n",
      "R2 score: 0.4351074638820335\n",
      "[ 0.46935439  0.2691205   0.45235485]\n",
      "MAE: 5.207299418446191\n"
     ]
    }
   ],
   "source": [
    "import time\n",
    "from sklearn.ensemble import RandomForestRegressor\n",
    "from sklearn.metrics import mean_absolute_error\n",
    "\n",
    "model_rfg = RandomForestRegressor(n_estimators=25)\n",
    "\n",
    "init = time.time()\n",
    "model_rfg.fit(x_train, y_train)\n",
    "y_pred = model_rfg.predict(x_test)\n",
    "print('Execution time: {} seconds'.format(str(time.time() - init)))\n",
    "print('R2 score: {}'.format(model_rfg.score(x_test, y_test)))\n",
    "print(cross_val_score(model_rfg,x_test, y_test,scoring='r2'))\n",
    "print('MAE: {}'.format(mean_absolute_error(y_test, y_pred)))"
   ]
  },
  {
   "cell_type": "code",
   "execution_count": 8,
   "metadata": {},
   "outputs": [
    {
     "name": "stdout",
     "output_type": "stream",
     "text": [
      "{'fit_time': array([ 5.67798185,  5.48755121,  5.87552285,  5.15744662,  4.88007259]), 'score_time': array([ 0.00987983,  0.01417661,  0.01280951,  0.00949812,  0.00908041]), 'test_score': array([ 0.35411172,  0.57371294,  0.18645022,  0.39393464,  0.52780901]), 'train_score': array([ 0.91912788,  0.90860172,  0.93239042,  0.92071883,  0.91440101])}\n"
     ]
    }
   ],
   "source": [
    "from sklearn.model_selection import cross_validate\n",
    "cv = cross_validate(model_rfg, x_test, y_test, cv=5)\n",
    "print(cv)"
   ]
  }
 ],
 "metadata": {
  "kernelspec": {
   "display_name": "Python 3",
   "language": "python",
   "name": "python3"
  },
  "language_info": {
   "codemirror_mode": {
    "name": "ipython",
    "version": 3
   },
   "file_extension": ".py",
   "mimetype": "text/x-python",
   "name": "python",
   "nbconvert_exporter": "python",
   "pygments_lexer": "ipython3",
   "version": "3.6.4"
  }
 },
 "nbformat": 4,
 "nbformat_minor": 2
}
