{
 "cells": [
  {
   "cell_type": "markdown",
   "metadata": {},
   "source": [
    "# K-nearest neighbors na Regressão\n",
    "   Assim como antes nos problemas de classificação podemos utilizar a distância euclidiana para calcular a distância entre as instâncias porem a diferença reside na forma em que será calculado o valor para se associar a instância que está sendo testada.\n",
    "   Invés de usarmos aquela classe que aparece com mais frequência(classe dominante) no vetor dos vizinhos mais próximos, pegaremos uma média dos valores dessas instâncias. A saída é um valor numérico. Este valor será uma medida de posição dos valores dos seus vizinhos mais próximos, por exemplo a média ou mediana."
   ]
  },
  {
   "cell_type": "code",
   "execution_count": 53,
   "metadata": {},
   "outputs": [],
   "source": [
    "import pandas as pd\n",
    "dataset_train = pd.read_csv('../../data/blogData_train.csv', header=None) # Importing train dataframe\n",
    "dataset_test = pd.read_csv('../../data/modified/blogData_test.csv', header=None) # Importing test dataframe"
   ]
  },
  {
   "cell_type": "code",
   "execution_count": 54,
   "metadata": {},
   "outputs": [],
   "source": [
    "# selects test data\n",
    "x_test = dataset_test.iloc[:, 0:-1] # all coluns\n",
    "y_test = dataset_test.iloc[:,-1] # last column of data frame \n",
    "\n",
    "#selects train data\n",
    "x_train = dataset_train.iloc[:,0:-1] # all coluns\n",
    "y_train = dataset_train.iloc[:,-1] # last column of data frame "
   ]
  },
  {
   "cell_type": "code",
   "execution_count": 55,
   "metadata": {},
   "outputs": [
    {
     "name": "stdout",
     "output_type": "stream",
     "text": [
      "Train: % 0.8729777911064461\n",
      "Test: % 0.12702220889355392\n"
     ]
    }
   ],
   "source": [
    "print(\"Train: % \" + str(len(x_train)/(len(x_train) + len(x_test)))) # % of train\n",
    "print(\"Test: % \" + str(len(x_test)/(len(x_train) + len(x_test)))) # % of teste"
   ]
  },
  {
   "cell_type": "markdown",
   "metadata": {},
   "source": [
    "## Definindo o melhor K para o KNN"
   ]
  },
  {
   "cell_type": "code",
   "execution_count": 56,
   "metadata": {},
   "outputs": [
    {
     "name": "stdout",
     "output_type": "stream",
     "text": [
      "Execution time: 86.55228304862976 seconds\n",
      "K Scores List[0.24772838361792235, 0.3169536632390913, 0.31236447388249583, 0.328460280574606, 0.35171606681546824, 0.3657483642838863, 0.3581321298084891, 0.3472954656492514, 0.34916979783582397, 0.3610259563112822, 0.3573653840408495, 0.3580850915461761, 0.35788570982368606, 0.3572662832298084, 0.3562581951375207, 0.3559331458937837, 0.3499418614696508, 0.34367083743013216, 0.33796047336786933, 0.3345589873444756, 0.3322238886309794, 0.33018262810557386, 0.32783907801759093, 0.32862494980254225, 0.3289369119399378, 0.32368253225727683, 0.32147783862192497, 0.3205077582728157, 0.3150497749010518, 0.31021377907419556]\n",
      "Length of list 30\n",
      "Max of list 0.3657483642838863\n"
     ]
    }
   ],
   "source": [
    "from sklearn.neighbors import KNeighborsRegressor\n",
    "from sklearn.model_selection import cross_val_score\n",
    "import time\n",
    "\n",
    "init = time.time() # initial time point\n",
    "\n",
    "# Search for an optimal value of K for KNN\n",
    "\n",
    "# range of k we want to try\n",
    "k_range = range(1, 31)\n",
    "# empty list to store scores\n",
    "k_scores = []\n",
    "\n",
    "# 1. we will loop through reasonable values of k\n",
    "for k in k_range:\n",
    "    # 2. run KNeighborsRegressor with k neighbours\n",
    "    knn = KNeighborsRegressor(n_neighbors=k)\n",
    "    # 3. obtain cross_val_score for KNeighborsRegressor with k neighbours\n",
    "    scores = cross_val_score(knn, x_test, y_test, cv=10, scoring='r2')\n",
    "    # 4. append mean of scores for k neighbors to k_scores list\n",
    "    k_scores.append(scores.mean())\n",
    "\n",
    "\n",
    "print('Execution time: {} seconds'.format(str(time.time() - init)))\n",
    "print('K Scores List' + str(k_scores))\n",
    "\n",
    "print('Length of list', len(k_scores))\n",
    "print('Max of list', max(k_scores))"
   ]
  },
  {
   "cell_type": "markdown",
   "metadata": {},
   "source": [
    "## Exibindo os valores de K em relação aos score's"
   ]
  },
  {
   "cell_type": "code",
   "execution_count": 57,
   "metadata": {},
   "outputs": [
    {
     "data": {
      "text/plain": [
       "Text(0,0.5,'Cross-validated R2')"
      ]
     },
     "execution_count": 57,
     "metadata": {},
     "output_type": "execute_result"
    },
    {
     "data": {
      "image/png": "[encoded data removed]",
      "text/plain": [
       "<matplotlib.figure.Figure at 0x7fef2d8b32b0>"
      ]
     },
     "metadata": {},
     "output_type": "display_data"
    }
   ],
   "source": [
    "# plot how score changes as we vary k\n",
    "import matplotlib.pyplot as plt\n",
    "%matplotlib inline\n",
    "\n",
    "# plot the value of K for KNN (x-axis) versus the r2 cross-validated (y-axis)\n",
    "# plt.plot(x_axis, y_axis)\n",
    "plt.plot(k_range, k_scores)\n",
    "plt.xlabel('Value of K for KNN') # Set x label\n",
    "plt.ylabel('Cross-validated R2') # Set y label"
   ]
  },
  {
   "cell_type": "markdown",
   "metadata": {},
   "source": [
    "### Aplicando o Knn Regressor com o \"K\" que contém o maior score. Aproximadamente entre 6 e 7"
   ]
  },
  {
   "cell_type": "code",
   "execution_count": 62,
   "metadata": {
    "scrolled": true
   },
   "outputs": [
    {
     "name": "stdout",
     "output_type": "stream",
     "text": [
      "Execution time: 9.89331340789795 seconds\n",
      "R2 score: 0.33911421368448513\n",
      "[0.40916812 0.3409271  0.34825596]\n",
      "MAE: 5.76662044670964\n"
     ]
    }
   ],
   "source": [
    "from sklearn.metrics import mean_absolute_error\n",
    "import time\n",
    "\n",
    "init = time.time() # Initial point of time\n",
    "\n",
    "neigh = KNeighborsRegressor(n_neighbors=7) # Using the optimal k\n",
    "neigh.fit(x_train, y_train)\n",
    "y_pred = neigh.predict(x_test)\n",
    "cv = cross_val_score(neigh,x_test, y_test,scoring='r2')\n",
    "neigh_score = neigh.score(x_test, y_test)\n",
    "mae = mean_absolute_error(y_test, y_pred)\n",
    "\n",
    "print('Execution time: {} seconds'.format(str(time.time() - init)))\n",
    "print('R2 score: {}'.format(neigh_score))\n",
    "print(cv)\n",
    "print('MAE: {}'.format(mae))"
   ]
  },
  {
   "cell_type": "markdown",
   "metadata": {},
   "source": [
    "## K Fold"
   ]
  },
  {
   "cell_type": "code",
   "execution_count": 60,
   "metadata": {},
   "outputs": [
    {
     "name": "stdout",
     "output_type": "stream",
     "text": [
      "[ 0.51520675 -0.15820437  0.72095494  0.34913243  0.48702956  0.16009117\n",
      "  0.36939583  0.301258    0.40594173  0.43051525]\n",
      "Mean : 0.3581321298084891\n"
     ]
    }
   ],
   "source": [
    "import numpy as np\n",
    "\n",
    "k = 10  # 10-fold\n",
    "scores = cross_val_score(neigh,x_test, y_test,cv= k) # Fit and predic\n",
    "print(scores)\n",
    "hite_rate = np.mean(scores) \n",
    "print(\"Mean : \" + str(hite_rate))"
   ]
  },
  {
   "cell_type": "markdown",
   "metadata": {},
   "source": [
    "## Predições em relação ao resultado original"
   ]
  },
  {
   "cell_type": "code",
   "execution_count": 61,
   "metadata": {},
   "outputs": [
    {
     "data": {
      "image/png": "[encoded data removed]",
      "text/plain": [
       "<matplotlib.figure.Figure at 0x7fef2d69fe10>"
      ]
     },
     "metadata": {},
     "output_type": "display_data"
    }
   ],
   "source": [
    "import matplotlib.pyplot as plt\n",
    "import matplotlib as mpl\n",
    "\n",
    "x = np.arange(200)\n",
    "mpl.rcParams['figure.figsize'] = (12, 8)\n",
    "\n",
    "plt.scatter(x, y_test[:200]) # Set only 200 data\n",
    "plt.plot(x, y_pred[:200], color='red') \n",
    "plt.xlabel('Number of test instance') # Set x label\n",
    "plt.ylabel('Number of comments') # Set y label\n",
    "plt.show()"
   ]
  },
  {
   "cell_type": "code",
   "execution_count": null,
   "metadata": {},
   "outputs": [],
   "source": []
  }
 ],
 "metadata": {
  "kernelspec": {
   "display_name": "Python 3",
   "language": "python",
   "name": "python3"
  },
  "language_info": {
   "codemirror_mode": {
    "name": "ipython",
    "version": 3
   },
   "file_extension": ".py",
   "mimetype": "text/x-python",
   "name": "python",
   "nbconvert_exporter": "python",
   "pygments_lexer": "ipython3",
   "version": "3.6.4"
  }
 },
 "nbformat": 4,
 "nbformat_minor": 2
}
