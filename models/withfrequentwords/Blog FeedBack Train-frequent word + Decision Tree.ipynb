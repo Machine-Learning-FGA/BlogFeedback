{
 "cells": [
  {
   "cell_type": "code",
   "execution_count": 1,
   "metadata": {},
   "outputs": [],
   "source": [
    "import pandas as pd\n",
    "import matplotlib.pyplot as plt\n",
    "import matplotlib as mpl\n",
    "import numpy as np\n",
    "from sklearn.metrics import r2_score, mean_squared_error\n",
    "from sklearn.model_selection import cross_val_score"
   ]
  },
  {
   "cell_type": "code",
   "execution_count": 2,
   "metadata": {},
   "outputs": [],
   "source": [
    "dataset_train = pd.read_csv('../../data/modified/addFeatureTrain.csv')\n",
    "dataset_test = pd.read_csv('../../data/modified/addFeatureTest.csv')"
   ]
  },
  {
   "cell_type": "code",
   "execution_count": 3,
   "metadata": {},
   "outputs": [],
   "source": [
    "x_train = dataset_train.drop(columns=['y'])\n",
    "y_train = dataset_train['y']\n",
    "\n",
    "x_test = dataset_test.drop(columns=['y'])\n",
    "y_test = dataset_test['y']"
   ]
  },
  {
   "cell_type": "code",
   "execution_count": 4,
   "metadata": {},
   "outputs": [
    {
     "name": "stdout",
     "output_type": "stream",
     "text": [
      "Execution time: 4.013042449951172 seconds\n",
      "R2 score: 0.2847773076289901\n",
      "[0.28709715 0.2995747  0.3179974 ]\n",
      "MAE: 0.4505532326568919\n"
     ]
    }
   ],
   "source": [
    "import time\n",
    "from sklearn.tree import DecisionTreeRegressor\n",
    "from sklearn.metrics import mean_absolute_error\n",
    "\n",
    "model_dt = DecisionTreeRegressor(random_state = 0)\n",
    "\n",
    "init = time.time()\n",
    "model_dt.fit(x_train, y_train)\n",
    "y_pred = model_dt.predict(x_test)\n",
    "print('Execution time: {} seconds'.format(str(time.time() - init)))\n",
    "print('R2 score: {}'.format(model_dt.score(x_test, y_test)))\n",
    "print(cross_val_score(model_dt,x_test, y_test,scoring='r2'))\n",
    "print('MAE: {}'.format(mean_absolute_error(y_test, y_pred)))"
   ]
  },
  {
   "cell_type": "code",
   "execution_count": 5,
   "metadata": {},
   "outputs": [
    {
     "name": "stdout",
     "output_type": "stream",
     "text": [
      "{'train_score': array([0.99875321, 0.99988139, 0.99873746, 0.99984179, 0.9986333 ]), 'fit_time': array([0.34545255, 0.33519983, 0.30982685, 0.36690545, 0.33597255]), 'score_time': array([0.00153947, 0.00157762, 0.00156808, 0.00156164, 0.00156903]), 'test_score': array([0.26979932, 0.28781543, 0.29507507, 0.30079761, 0.33920061])}\n"
     ]
    }
   ],
   "source": [
    "from sklearn.model_selection import cross_validate\n",
    "cv = cross_validate(model_dt, x_test, y_test, cv=5)\n",
    "print(cv)"
   ]
  }
 ],
 "metadata": {
  "kernelspec": {
   "display_name": "Python 3",
   "language": "python",
   "name": "python3"
  },
  "language_info": {
   "codemirror_mode": {
    "name": "ipython",
    "version": 3
   },
   "file_extension": ".py",
   "mimetype": "text/x-python",
   "name": "python",
   "nbconvert_exporter": "python",
   "pygments_lexer": "ipython3",
   "version": "3.5.4rc1"
  }
 },
 "nbformat": 4,
 "nbformat_minor": 2
}
