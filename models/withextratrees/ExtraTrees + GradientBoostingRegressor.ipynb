{
 "cells": [
  {
   "cell_type": "markdown",
   "metadata": {},
   "source": []
  },
  {
   "cell_type": "code",
   "execution_count": 1,
   "metadata": {
    "collapsed": true
   },
   "outputs": [],
   "source": [
    "import pandas as pd\n",
    "import matplotlib.pyplot as plt\n",
    "import matplotlib as mpl\n",
    "import numpy as np\n",
    "from sklearn.metrics import r2_score, mean_squared_error\n",
    "from sklearn.model_selection import cross_val_score"
   ]
  },
  {
   "cell_type": "code",
   "execution_count": 2,
   "metadata": {
    "collapsed": true
   },
   "outputs": [],
   "source": [
    "dataset_train = pd.read_csv('../../data/modified/blogData_newTrainET.csv')\n",
    "dataset_test = pd.read_csv('../../data/modified/blogData_newTestET.csv')\n",
    "\n",
    "LAST_COL = dataset_train.shape[1]"
   ]
  },
  {
   "cell_type": "markdown",
   "metadata": {},
   "source": [
    "## Attribute Information:\n",
    "\n",
    "|        Line       |                                                                                                                                  Description                                                                                                                                  |\n",
    "|:-----------------:|:-----------------------------------------------------------------------------------------------------------------------------------------------------------------------------------------------------------------------------------------------------------------------------:|\n",
    "|  **1**...**50**   | Average, standard deviation, min, max and median of the  Attributes 51...60 for the source of the current blog post  With source we mean the blog on which the post appeared.  For example, myblog.blog.org would be the source of  the post myblog.blog.org/post_2010_09_10  |\n",
    "|       **51**      |                                                                                                                   Total number of comments *before* basetime                                                                                                                  |\n",
    "|       **52**      |                                                                                                         Number of comments in the last 24 hours *before* the basetime                                                                                                         |\n",
    "|       **53**      |                                         Let T1 denote the datetime 48 hours *before* basetime,  Let T2 denote the datetime 24 hours *before* basetime.  This attribute is the number of comments in the time period  between T1 and T2                                        |\n",
    "|       **54**      |                                                                                    Number of comments in the first 24 hours after the  publication of the blog post, but *before* basetime                                                                                    |\n",
    "|       **55**      |                                                                                                                    The diference of attribute *52* and *53*                                                                                                                   |\n",
    "|  **56**...**60**  |                                              The same features as the attributes *51*...*55*, but  features *56*...*60* refer to the number of links (trackbacks),  while features *51*...*55* refer to the number of comments.                                               |\n",
    "|       **61**      |                                                                                                   The length of time between the publication of the blog post  and basetime                                                                                                   |\n",
    "|       **62**      |                                                                                                                          The length of the blog post                                                                                                                          |\n",
    "|  **63**...**262** |                                                                                              The 200 bag of *words* features for 200 frequent words of the  text of the blog post                                                                                             |\n",
    "| **263**...**269** |                                                                                              binary indicator features (0 or 1) for the weekday (Monday...Sunday) of the basetime                                                                                             |\n",
    "| **270**...**276** |                                                                              binary indicator features (0 or 1) for the weekday  (Monday...Sunday) of the date of publication of the blog  post                                                                               |\n",
    "|      **277**      |                                                                          Number of parent pages: we consider a blog post P as a  parent of blog post B, if B is a reply (trackback) to  blog post P.                                                                          |\n",
    "| **278**...**280** |                                                                                                     Minimum, maximum, average number of comments that the parents received                                                                                                    |\n",
    "|      **281**      |                                                                                                The target: the number of comments in the next 24 hours  (relative to basetime)                                                                                                |\n",
    "                                                                                                               |"
   ]
  },
  {
   "cell_type": "code",
   "execution_count": 3,
   "metadata": {},
   "outputs": [
    {
     "data": {
      "image/png": "[encoded data removed]",
      "text/plain": [
       "<matplotlib.figure.Figure at 0x7faebcb81518>"
      ]
     },
     "metadata": {},
     "output_type": "display_data"
    }
   ],
   "source": [
    "dados = dataset_train.iloc[:500, :LAST_COL]\n",
    "\n",
    "from sklearn.manifold import TSNE\n",
    "mpl.rcParams['figure.figsize'] = (10, 10)\n",
    "tsne = TSNE(n_components=2)\n",
    "graf = tsne.fit_transform(dados)\n",
    "\n",
    "for xis in range(len(graf)):\n",
    "    plt.scatter(graf[xis][0], graf[xis][1], c='blue')\n",
    "plt.show()\n"
   ]
  },
  {
   "cell_type": "code",
   "execution_count": 4,
   "metadata": {},
   "outputs": [
    {
     "name": "stdout",
     "output_type": "stream",
     "text": [
      "<class 'pandas.core.frame.DataFrame'>\n",
      "RangeIndex: 52397 entries, 0 to 52396\n",
      "Data columns (total 76 columns):\n",
      "X3      52397 non-null float64\n",
      "X4      52397 non-null float64\n",
      "X5      52397 non-null float64\n",
      "X6      52397 non-null float64\n",
      "X8      52397 non-null float64\n",
      "X9      52397 non-null float64\n",
      "X10     52397 non-null float64\n",
      "X13     52397 non-null float64\n",
      "X15     52397 non-null float64\n",
      "X16     52397 non-null float64\n",
      "X18     52397 non-null float64\n",
      "X19     52397 non-null float64\n",
      "X20     52397 non-null float64\n",
      "X21     52397 non-null float64\n",
      "X22     52397 non-null float64\n",
      "X23     52397 non-null float64\n",
      "X50     52397 non-null float64\n",
      "X51     52397 non-null float64\n",
      "X52     52397 non-null float64\n",
      "X53     52397 non-null float64\n",
      "X54     52397 non-null float64\n",
      "X55     52397 non-null float64\n",
      "X56     52397 non-null float64\n",
      "X57     52397 non-null float64\n",
      "X58     52397 non-null float64\n",
      "X59     52397 non-null float64\n",
      "X60     52397 non-null float64\n",
      "X61     52397 non-null float64\n",
      "X63     52397 non-null float64\n",
      "X66     52397 non-null float64\n",
      "X67     52397 non-null float64\n",
      "X68     52397 non-null float64\n",
      "X78     52397 non-null float64\n",
      "X95     52397 non-null float64\n",
      "X100    52397 non-null float64\n",
      "X113    52397 non-null float64\n",
      "X119    52397 non-null float64\n",
      "X121    52397 non-null float64\n",
      "X138    52397 non-null float64\n",
      "X142    52397 non-null float64\n",
      "X150    52397 non-null float64\n",
      "X157    52397 non-null float64\n",
      "X158    52397 non-null float64\n",
      "X169    52397 non-null float64\n",
      "X183    52397 non-null float64\n",
      "X190    52397 non-null float64\n",
      "X192    52397 non-null float64\n",
      "X193    52397 non-null float64\n",
      "X201    52397 non-null float64\n",
      "X209    52397 non-null float64\n",
      "X212    52397 non-null float64\n",
      "X225    52397 non-null float64\n",
      "X227    52397 non-null float64\n",
      "X229    52397 non-null float64\n",
      "X231    52397 non-null float64\n",
      "X232    52397 non-null float64\n",
      "X246    52397 non-null float64\n",
      "X247    52397 non-null float64\n",
      "X262    52397 non-null float64\n",
      "X263    52397 non-null float64\n",
      "X264    52397 non-null float64\n",
      "X265    52397 non-null float64\n",
      "X266    52397 non-null float64\n",
      "X267    52397 non-null float64\n",
      "X268    52397 non-null float64\n",
      "X269    52397 non-null float64\n",
      "X270    52397 non-null float64\n",
      "X271    52397 non-null float64\n",
      "X272    52397 non-null float64\n",
      "X273    52397 non-null float64\n",
      "X274    52397 non-null float64\n",
      "X275    52397 non-null float64\n",
      "X276    52397 non-null float64\n",
      "X279    52397 non-null float64\n",
      "X280    52397 non-null float64\n",
      "Y       52397 non-null float64\n",
      "dtypes: float64(76)\n",
      "memory usage: 30.4 MB\n",
      "None\n"
     ]
    }
   ],
   "source": [
    "print(dataset_train.info())"
   ]
  },
  {
   "cell_type": "code",
   "execution_count": 5,
   "metadata": {},
   "outputs": [
    {
     "data": {
      "image/png": "[encoded data removed]",
      "text/plain": [
       "<matplotlib.figure.Figure at 0x7faeaec02898>"
      ]
     },
     "metadata": {},
     "output_type": "display_data"
    }
   ],
   "source": [
    "y_aux = dataset_train.corr()[\"Y\"] # individual correlation, variables with target\n",
    "x_aux = dataset_train.columns\n",
    "plt.bar(x_aux[0:len(y_aux)-1], y_aux[0:len(y_aux)-1])\n",
    "plt.show()"
   ]
  },
  {
   "cell_type": "code",
   "execution_count": 10,
   "metadata": {},
   "outputs": [],
   "source": [
    "x_train = dataset_train.iloc[:,0:-1]\n",
    "y_train = dataset_train.iloc[:,-1]\n",
    "\n",
    "x_test = dataset_test.iloc[:, 0:-1]\n",
    "y_test = dataset_test.iloc[:,-1]"
   ]
  },
  {
   "cell_type": "code",
   "execution_count": 7,
   "metadata": {},
   "outputs": [
    {
     "name": "stdout",
     "output_type": "stream",
     "text": [
      "Execution time: 45.82485222816467 seconds\n",
      "R2 score: 0.43918818066166754\n",
      "[ 0.43711717  0.27554063  0.39117226]\n",
      "MAE: 5.133227818316951\n"
     ]
    }
   ],
   "source": [
    "import time\n",
    "from sklearn.ensemble import GradientBoostingRegressor\n",
    "from sklearn.metrics import mean_absolute_error\n",
    "\n",
    "init = time.time()\n",
    "gbr = GradientBoostingRegressor(n_estimators=500)\n",
    "gbr.fit(x_train, y_train)\n",
    "y_pred = gbr.predict(x_test)\n",
    "print('Execution time: {} seconds'.format(str(time.time() - init)))\n",
    "print('R2 score: {}'.format(gbr.score(x_test, y_test)))\n",
    "print(cross_val_score(gbr,x_test, y_test,scoring='r2'))\n",
    "print('MAE: {}'.format(mean_absolute_error(y_test, y_pred)))"
   ]
  },
  {
   "cell_type": "code",
   "execution_count": 8,
   "metadata": {},
   "outputs": [
    {
     "name": "stdout",
     "output_type": "stream",
     "text": [
      "{'fit_time': array([ 4.76986647,  4.78679347,  4.52983952,  4.5619173 ,  4.25653362]), 'score_time': array([ 0.00935888,  0.0093298 ,  0.00869608,  0.00900006,  0.00866532]), 'test_score': array([ 0.37039342,  0.46439458,  0.09018692,  0.36725548,  0.43325024]), 'train_score': array([ 0.9487915 ,  0.94478819,  0.95860701,  0.93944672,  0.95188461])}\n"
     ]
    }
   ],
   "source": [
    "from sklearn.model_selection import cross_validate\n",
    "cv = cross_validate(gbr, x_test, y_test, cv=5)\n",
    "print(cv)"
   ]
  }
 ],
 "metadata": {
  "kernelspec": {
   "display_name": "Python 3",
   "language": "python",
   "name": "python3"
  },
  "language_info": {
   "codemirror_mode": {
    "name": "ipython",
    "version": 3
   },
   "file_extension": ".py",
   "mimetype": "text/x-python",
   "name": "python",
   "nbconvert_exporter": "python",
   "pygments_lexer": "ipython3",
   "version": "3.6.4"
  }
 },
 "nbformat": 4,
 "nbformat_minor": 2
}
