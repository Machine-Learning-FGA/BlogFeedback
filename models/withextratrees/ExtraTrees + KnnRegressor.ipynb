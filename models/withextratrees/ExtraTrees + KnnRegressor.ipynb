{
 "cells": [
  {
   "cell_type": "markdown",
   "metadata": {},
   "source": [
    "# K-nearest neighbors na Regressão\n",
    "   Assim como antes nos problemas de classificação podemos utilizar a distância euclidiana para calcular a distância entre as instâncias porem a diferença reside na forma em que será calculado o valor para se associar a instância que está sendo testada.\n",
    "   Invés de usarmos aquela classe que aparece com mais frequência(classe dominante) no vetor dos vizinhos mais próximos, pegaremos uma média dos valores dessas instâncias. A saída é um valor numérico. Este valor será uma medida de posição dos valores dos seus vizinhos mais próximos, por exemplo a média ou mediana."
   ]
  },
  {
   "cell_type": "code",
   "execution_count": 1,
   "metadata": {},
   "outputs": [],
   "source": [
    "import pandas as pd\n",
    "dataset_train = pd.read_csv('../../data/modified/blogData_newTrainET.csv') # Importing train dataframe\n",
    "dataset_test = pd.read_csv('../../data/modified/blogData_newTestET.csv') # Importing test dataframe"
   ]
  },
  {
   "cell_type": "code",
   "execution_count": 2,
   "metadata": {},
   "outputs": [],
   "source": [
    "# select test data\n",
    "x_test = dataset_test.iloc[:, 0:-1]\n",
    "y_test = dataset_test.iloc[:,-1]\n",
    "\n",
    "# select train data\n",
    "x_train = dataset_train.iloc[:,0:-1]\n",
    "y_train = dataset_train.iloc[:,-1]"
   ]
  },
  {
   "cell_type": "code",
   "execution_count": 3,
   "metadata": {},
   "outputs": [
    {
     "name": "stdout",
     "output_type": "stream",
     "text": [
      "Train: % 0.8729777911064461\n",
      "Test: % 0.12702220889355392\n"
     ]
    }
   ],
   "source": [
    "print(\"Train: % \" + str(len(x_train)/(len(x_train) + len(x_test)))) # % de treino\n",
    "print(\"Test: % \" + str(len(x_test)/(len(x_train) + len(x_test)))) # % de teste"
   ]
  },
  {
   "cell_type": "markdown",
   "metadata": {},
   "source": [
    "## Definindo o melhor K para o KNN"
   ]
  },
  {
   "cell_type": "code",
   "execution_count": 4,
   "metadata": {},
   "outputs": [
    {
     "name": "stdout",
     "output_type": "stream",
     "text": [
      "Execution time: 32.219709396362305 seconds\n",
      "K Scores List[-0.26176602299649004, 0.10436271289803885, 0.2341841971318742, 0.2620089289806743, 0.30628643092411834, 0.3367006620365746, 0.361723872660865, 0.3569213072827564, 0.36890526172586746, 0.37094991679742695, 0.37910836450160734, 0.3800682466924493, 0.37326201997237407, 0.36193668706478427, 0.3624370377823212, 0.3577954992277407, 0.3584043230070944, 0.3553498276070326, 0.3571070349556686, 0.3499540317003761, 0.35243565732994436, 0.34788829850475744, 0.348569481441139, 0.34618220315158393, 0.34390412473615795, 0.3407459017454542, 0.3403697223833817, 0.33796310246041816, 0.3347974780457358, 0.334279476651711]\n",
      "Length of list 30\n",
      "Max of list 0.3800682466924493\n"
     ]
    }
   ],
   "source": [
    "from sklearn.neighbors import KNeighborsRegressor\n",
    "from sklearn.model_selection import cross_val_score\n",
    "import time\n",
    "\n",
    "init = time.time() # initial time point\n",
    "\n",
    "# Search for an optimal value of K for KNN\n",
    "\n",
    "# range of k we want to try\n",
    "k_range = range(1, 31)\n",
    "# empty list to store scores\n",
    "k_scores = []\n",
    "\n",
    "# 1. we will loop through reasonable values of k\n",
    "for k in k_range:\n",
    "    # 2. run KNeighborsRegressor with k neighbours\n",
    "    knn = KNeighborsRegressor(n_neighbors=k)\n",
    "    # 3. obtain cross_val_score for KNeighborsRegressor with k neighbours\n",
    "    scores = cross_val_score(knn, x_test, y_test, cv=10, scoring='r2')\n",
    "    # 4. append mean of scores for k neighbors to k_scores list\n",
    "    k_scores.append(scores.mean())\n",
    "\n",
    "\n",
    "print('Execution time: {} seconds'.format(str(time.time() - init)))\n",
    "print('K Scores List' + str(k_scores))\n",
    "\n",
    "print('Length of list', len(k_scores))\n",
    "print('Max of list', max(k_scores))"
   ]
  },
  {
   "cell_type": "code",
   "execution_count": 5,
   "metadata": {},
   "outputs": [
    {
     "name": "stdout",
     "output_type": "stream",
     "text": [
      "Execution time: 7.032599687576294 seconds\n",
      "R2 score: 0.392903077237462\n",
      "[0.41993899 0.31615355 0.38354786]\n",
      "MAE: 5.3507345225603355\n"
     ]
    }
   ],
   "source": [
    "from sklearn.neighbors import KNeighborsRegressor\n",
    "from sklearn.metrics import mean_absolute_error\n",
    "from sklearn.model_selection import cross_val_score\n",
    "import time\n",
    "\n",
    "init = time.time()\n",
    "\n",
    "neigh = KNeighborsRegressor(n_neighbors=9)\n",
    "neigh.fit(x_train, y_train)\n",
    "y_pred = neigh.predict(x_test)\n",
    "cv = cross_val_score(neigh,x_test, y_test,scoring='r2')\n",
    "neigh_score = neigh.score(x_test, y_test)\n",
    "mae = mean_absolute_error(y_test, y_pred)\n",
    "\n",
    "print('Execution time: {} seconds'.format(str(time.time() - init)))\n",
    "print('R2 score: {}'.format(neigh_score))\n",
    "print(cv)\n",
    "print('MAE: {}'.format(mae))"
   ]
  },
  {
   "cell_type": "markdown",
   "metadata": {},
   "source": [
    "## K Fold"
   ]
  },
  {
   "cell_type": "code",
   "execution_count": 6,
   "metadata": {},
   "outputs": [
    {
     "name": "stdout",
     "output_type": "stream",
     "text": [
      "[ 0.43836517 -0.15374699  0.6907497   0.38279061  0.45854447  0.12146374\n",
      "  0.37641337  0.4148255   0.47798124  0.48166582]\n",
      "Mean : 0.36890526172586746\n"
     ]
    }
   ],
   "source": [
    "import numpy as np\n",
    "\n",
    "k = 10  # 10-fold\n",
    "scores = cross_val_score(neigh,x_test, y_test,cv= k)\n",
    "print(scores)\n",
    "hite_rate = np.mean(scores) \n",
    "print(\"Mean : \" + str(hite_rate))"
   ]
  },
  {
   "cell_type": "markdown",
   "metadata": {},
   "source": [
    "## Predições em relação ao resultado original"
   ]
  },
  {
   "cell_type": "code",
   "execution_count": 8,
   "metadata": {},
   "outputs": [
    {
     "data": {
      "image/png": "[encoded data removed]",
      "text/plain": [
       "<matplotlib.figure.Figure at 0x7f732d276240>"
      ]
     },
     "metadata": {},
     "output_type": "display_data"
    }
   ],
   "source": [
    "import matplotlib.pyplot as plt\n",
    "import matplotlib as mpl\n",
    "\n",
    "x = np.arange(200)\n",
    "mpl.rcParams['figure.figsize'] = (12, 8)\n",
    "\n",
    "plt.scatter(x, y_test[:200])\n",
    "plt.plot(x, y_pred[:200], color='red')\n",
    "plt.show()"
   ]
  },
  {
   "cell_type": "code",
   "execution_count": null,
   "metadata": {},
   "outputs": [],
   "source": []
  }
 ],
 "metadata": {
  "kernelspec": {
   "display_name": "Python 3",
   "language": "python",
   "name": "python3"
  },
  "language_info": {
   "codemirror_mode": {
    "name": "ipython",
    "version": 3
   },
   "file_extension": ".py",
   "mimetype": "text/x-python",
   "name": "python",
   "nbconvert_exporter": "python",
   "pygments_lexer": "ipython3",
   "version": "3.6.4"
  }
 },
 "nbformat": 4,
 "nbformat_minor": 2
}
